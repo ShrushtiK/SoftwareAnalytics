{
 "cells": [
  {
   "cell_type": "markdown",
   "metadata": {},
   "source": [
    "# Blog Post Data - Total amount of analyzed metrics \n",
    "\n",
    "In order to present the research, we have decided to compute the total number of PRs, collaborators, timezones, and countries."
   ]
  },
  {
   "cell_type": "code",
   "execution_count": 3,
   "metadata": {},
   "outputs": [
    {
     "name": "stdout",
     "output_type": "stream",
     "text": [
      "Total number of commits: 127521\n",
      "Total number of collaborators: 1324\n"
     ]
    }
   ],
   "source": [
    "import json\n",
    "\n",
    "def compute_totals(data):\n",
    "    total_commits = 0\n",
    "    total_collaborators = 0\n",
    "    \n",
    "    for entry in data:\n",
    "        total_commits += entry['num_commits']\n",
    "        total_collaborators += entry['nr_collaborators']\n",
    "    \n",
    "    return total_commits, total_collaborators\n",
    "\n",
    "# Load JSON data from file\n",
    "with open(\"data/3b_collaborators_and_users_filtered.json\") as f:\n",
    "    data = json.load(f)\n",
    "\n",
    "# Compute totals\n",
    "total_commits, total_collaborators = compute_totals(data)\n",
    "\n",
    "print(\"Total number of commits:\", total_commits)\n",
    "print(\"Total number of collaborators:\", total_collaborators)\n"
   ]
  },
  {
   "cell_type": "code",
   "execution_count": 4,
   "metadata": {},
   "outputs": [
    {
     "name": "stdout",
     "output_type": "stream",
     "text": [
      "Total number of pull requests: 25261\n"
     ]
    }
   ],
   "source": [
    "import json\n",
    "\n",
    "def compute_pull_request_total(data):\n",
    "    total_pull_requests = 0\n",
    "    \n",
    "    for entry in data:\n",
    "        total_pull_requests += entry['num_pull_requests']\n",
    "    \n",
    "    return total_pull_requests\n",
    "\n",
    "# Load JSON data from file\n",
    "with open(\"data/4_pull_requests.json\") as f:\n",
    "    data = json.load(f)\n",
    "\n",
    "# Compute total pull requests\n",
    "total_pull_requests = compute_pull_request_total(data)\n",
    "\n",
    "print(\"Total number of pull requests:\", total_pull_requests)\n"
   ]
  },
  {
   "cell_type": "code",
   "execution_count": 8,
   "metadata": {},
   "outputs": [
    {
     "name": "stdout",
     "output_type": "stream",
     "text": [
      "Distinct continents: {'America', 'Africa', 'Australia', 'Europe', 'Pacific', 'Asia'}\n",
      "Distinct countries: {'Cuiaba', 'Auckland', 'Helsinki', 'Bangui', 'London', 'Ljubljana', 'Denver', 'Brussels', 'Athens', 'Chisinau', 'Moscow', 'Seoul', 'Cairo', 'Toronto', 'Dubai', 'Manila', 'Paris', 'Rome', 'Vancouver', 'Zurich', 'Prague', 'Los_Angeles', 'Vatican', 'Colombo', 'Darwin', 'Taipei', 'Kolkata', 'Nairobi', 'Amsterdam', 'Stockholm', 'Sofia', 'Singapore', 'Guayaquil', 'Kuala_Lumpur', 'Vienna', 'Berlin', 'Minsk', 'Bucharest', 'Tokyo', 'Hong_Kong', 'Detroit', 'Edmonton', 'Krasnoyarsk', 'Copenhagen', 'Tbilisi', 'Warsaw', 'Port_Moresby', 'Bogota', 'New_York', 'Jerusalem', 'Dublin', 'Algiers', 'Madrid', 'Bangkok', 'Chicago', 'Oslo', 'Shanghai', 'Sao_Paulo', 'Halifax'}\n",
      "Distinct continents: 6\n",
      "Distinct countries: 59\n"
     ]
    }
   ],
   "source": [
    "import json\n",
    "\n",
    "def count_distinct_continents_and_countries(data):\n",
    "    distinct_continents = set()\n",
    "    distinct_countries = set()\n",
    "\n",
    "    for entry in data:\n",
    "        for location in entry['locations']:\n",
    "            # Split the location string into continent and country\n",
    "            continent, country = location.split('/')\n",
    "            distinct_continents.add(continent)\n",
    "            distinct_countries.add(country)\n",
    "\n",
    "    return distinct_continents, distinct_countries\n",
    "\n",
    "# Load JSON data from file\n",
    "with open(\"data_rq1/RQ1_2_Locations_PR.json\") as f:\n",
    "    data = json.load(f)\n",
    "\n",
    "# Count distinct continents and countries\n",
    "distinct_continents, distinct_countries = count_distinct_continents_and_countries(data)\n",
    "\n",
    "print(\"Distinct continents:\", distinct_continents)\n",
    "print(\"Distinct countries:\", distinct_countries)\n",
    "\n",
    "print(\"Distinct continents number:\", (len(distinct_continents) + 1)) #We add +1 to the continents, as America is analyzed as 1 continent, regarding if is South America or North America\n",
    "\n",
    "print(\"Distinct countries number:\", len(distinct_countries))"
   ]
  },
  {
   "cell_type": "markdown",
   "metadata": {},
   "source": [
    "We have"
   ]
  }
 ],
 "metadata": {
  "kernelspec": {
   "display_name": "Python 3",
   "language": "python",
   "name": "python3"
  },
  "language_info": {
   "codemirror_mode": {
    "name": "ipython",
    "version": 3
   },
   "file_extension": ".py",
   "mimetype": "text/x-python",
   "name": "python",
   "nbconvert_exporter": "python",
   "pygments_lexer": "ipython3",
   "version": "3.12.2"
  }
 },
 "nbformat": 4,
 "nbformat_minor": 2
}
